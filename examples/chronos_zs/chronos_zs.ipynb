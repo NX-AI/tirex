{
 "cells": [
  {
   "cell_type": "markdown",
   "metadata": {},
   "source": [
    "##### 1. Setup Chronos-ZS Benchmark\n",
    "\n",
    "In addition to tirex you need to install the dependicies in [./requirements.txt](requirements.txt)\n",
    "\n",
    "`pip install -r ./examples/chronos_zs/requirements.txt`"
   ]
  },
  {
   "cell_type": "markdown",
   "metadata": {},
   "source": [
    "##### 2. Load Model and Run Benchmark"
   ]
  },
  {
   "cell_type": "code",
   "execution_count": null,
   "metadata": {},
   "outputs": [],
   "source": [
    "import os\n",
    "#os.environ[\"TIREX_NO_CUDA\"] = \"1\"  # Turns off slstm cuda kernels if you have problems but be aware of the downsides! (see Repository FAQ)\n",
    "from tirex import load_model, ForecastModel\n",
    "model : ForecastModel = load_model(\"NX-AI/TiRex\", device=\"cuda:0\")"
   ]
  },
  {
   "cell_type": "code",
   "execution_count": null,
   "metadata": {},
   "outputs": [],
   "source": [
    "import fev\n",
    "import time\n",
    "import datasets\n",
    "import pandas as pd\n",
    "\n",
    "def eval_task(model, task):\n",
    "    past_data, _ = task.get_input_data(trust_remote_code=True)\n",
    "    quantile_levels = task.quantile_levels\n",
    "    past_data = past_data\\\n",
    "        .with_format(\"torch\")\\\n",
    "        .cast_column(task.target_column, datasets.Sequence(datasets.Value(\"float32\")))[task.target_column]\n",
    "    loaded_data = [t for t in past_data]\n",
    "\n",
    "    start_time = time.monotonic()\n",
    "    quantiles, means = model.forecast(loaded_data, quantile_levels=quantile_levels, prediction_length=task.horizon)\n",
    "    inference_time = time.monotonic() - start_time\n",
    "    predictions_dict = {\"predictions\": means}\n",
    "    for idx, level in enumerate(quantile_levels):\n",
    "        predictions_dict[str(level)] = quantiles[:, :, idx]  # [num_items, horizon]\n",
    "\n",
    "    predictions = datasets.Dataset.from_dict(predictions_dict)\n",
    "    return predictions, inference_time\n",
    "\n",
    "benchmark = fev.Benchmark.from_yaml(\n",
    "    \"https://raw.githubusercontent.com/autogluon/fev/refs/heads/main/benchmarks/chronos_zeroshot/tasks.yaml\"\n",
    ")\n",
    "summaries = []\n",
    "for task in benchmark.tasks:\n",
    "    predictions, inference_time = eval_task(model, task)\n",
    "    evaluation_summary = task.evaluation_summary(\n",
    "        predictions,\n",
    "        model_name=\"TiRex\",\n",
    "        inference_time_s=inference_time,\n",
    "    )\n",
    "    print(evaluation_summary)\n",
    "    summaries.append(evaluation_summary)\n",
    "\n",
    "\n",
    "summaries = pd.DataFrame(summaries)"
   ]
  }
 ],
 "metadata": {
  "kernelspec": {
   "display_name": "Python 3",
   "language": "python",
   "name": "python3"
  },
  "language_info": {
   "codemirror_mode": {
    "name": "ipython",
    "version": 3
   },
   "file_extension": ".py",
   "mimetype": "text/x-python",
   "name": "python",
   "nbconvert_exporter": "python",
   "pygments_lexer": "ipython3",
   "version": "3.11.12"
  }
 },
 "nbformat": 4,
 "nbformat_minor": 2
}
